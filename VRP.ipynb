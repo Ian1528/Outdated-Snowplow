{
 "cells": [
  {
   "cell_type": "markdown",
   "metadata": {},
   "source": [
    "# Vehicle Routing Problem\n",
    "\n",
    "Solving the vehicle routing problem using OR-tools by google. Toy problem to explore optimization tools"
   ]
  },
  {
   "cell_type": "code",
   "execution_count": 80,
   "metadata": {},
   "outputs": [],
   "source": [
    "from ortools.constraint_solver import routing_enums_pb2\n",
    "from ortools.constraint_solver import pywrapcp\n"
   ]
  },
  {
   "cell_type": "markdown",
   "metadata": {},
   "source": [
    "First, I create a distance matrix using an API key"
   ]
  },
  {
   "cell_type": "code",
   "execution_count": 81,
   "metadata": {},
   "outputs": [],
   "source": [
    "import os\n",
    "from dotenv import load_dotenv\n",
    "\n",
    "load_dotenv(\"keys.env\")\n",
    "\n",
    "api_key = os.getenv('DISTANCE_MATRIX')"
   ]
  },
  {
   "cell_type": "code",
   "execution_count": 82,
   "metadata": {},
   "outputs": [
    {
     "name": "stdout",
     "output_type": "stream",
     "text": [
      "[[0, 1115, 3566, 6308, 9852], [995, 0, 3796, 6451, 9995], [3479, 4560, 0, 9213, 12757], [6082, 6219, 9067, 0, 4040], [10237, 10373, 13222, 4309, 0]]\n"
     ]
    }
   ],
   "source": [
    "import requests\n",
    "import json\n",
    "import urllib\n",
    "\n",
    "\n",
    "def create_data():\n",
    "  \"\"\"Creates the data.\"\"\"\n",
    "  data = {}\n",
    "  data['API_key'] = api_key\n",
    "  data['addresses'] = ['7426+Hubbard+Avenue+Middleon+WI+53562', # depot\n",
    "                       '2100+Bristol+St+Middleton+WI+53562', # high school\n",
    "                       '2616+N+Pleasant+View+Rd+Middleton+WI+53562', # ice rink\n",
    "                       '3650+University+Ave+Shorewood+Hills+WI+53705', # grocery store\n",
    "                       '1401+Observatory+Dr+Madison+WI+53706', # UW observatory\n",
    "                      ]\n",
    "  return data\n",
    "\n",
    "def create_distance_matrix(data):\n",
    "  addresses = data[\"addresses\"]\n",
    "  API_key = data[\"API_key\"]\n",
    "  # Distance Matrix API only accepts 100 elements per request, so get rows in multiple requests.\n",
    "  max_elements = 100\n",
    "  num_addresses = len(addresses) # 16 in this example.\n",
    "  # Maximum number of rows that can be computed per request (6 in this example).\n",
    "  max_rows = max_elements // num_addresses\n",
    "  # num_addresses = q * max_rows + r (q = 2 and r = 4 in this example).\n",
    "  q, r = divmod(num_addresses, max_rows)\n",
    "  dest_addresses = addresses\n",
    "  distance_matrix = []\n",
    "  # Send q requests, returning max_rows rows per request.\n",
    "  for i in range(q):\n",
    "    origin_addresses = addresses[i * max_rows: (i + 1) * max_rows]\n",
    "    response = send_request(origin_addresses, dest_addresses, API_key)\n",
    "    distance_matrix += build_distance_matrix(response)\n",
    "\n",
    "  # Get the remaining remaining r rows, if necessary.\n",
    "  if r > 0:\n",
    "    origin_addresses = addresses[q * max_rows: q * max_rows + r]\n",
    "    response = send_request(origin_addresses, dest_addresses, API_key)\n",
    "    distance_matrix += build_distance_matrix(response)\n",
    "  return distance_matrix\n",
    "\n",
    "def send_request(origin_addresses, dest_addresses, API_key):\n",
    "  \"\"\" Build and send request for the given origin and destination addresses.\"\"\"\n",
    "  def build_address_str(addresses):\n",
    "    # Build a pipe-separated string of addresses\n",
    "    address_str = ''\n",
    "    for i in range(len(addresses) - 1):\n",
    "      address_str += addresses[i] + '|'\n",
    "    address_str += addresses[-1]\n",
    "    return address_str\n",
    "\n",
    "  request = 'https://maps.googleapis.com/maps/api/distancematrix/json?units=metric'\n",
    "  origin_address_str = build_address_str(origin_addresses)\n",
    "  dest_address_str = build_address_str(dest_addresses)\n",
    "  request = request + '&origins=' + origin_address_str + '&destinations=' + \\\n",
    "                       dest_address_str + '&key=' + API_key\n",
    "  jsonResult = urllib.request.urlopen(request).read()\n",
    "  response = json.loads(jsonResult)\n",
    "  return response\n",
    "\n",
    "def build_distance_matrix(response):\n",
    "  distance_matrix = []\n",
    "  for row in response['rows']:\n",
    "    row_list = [row['elements'][j]['distance']['value'] for j in range(len(row['elements']))]\n",
    "    distance_matrix.append(row_list)\n",
    "  return distance_matrix\n",
    "\n",
    "# Create the data.\n",
    "data = create_data()\n",
    "addresses = data['addresses']\n",
    "API_key = data['API_key']\n",
    "distance_matrix = create_distance_matrix(data)\n",
    "print(distance_matrix)"
   ]
  },
  {
   "cell_type": "markdown",
   "metadata": {},
   "source": [
    "With this distance matrix, we can now create the data that will be passed to the optimizer"
   ]
  },
  {
   "cell_type": "code",
   "execution_count": 83,
   "metadata": {},
   "outputs": [],
   "source": [
    "def create_data_model(distance_matrix, num_vehicles, depot):\n",
    "    \"\"\"Store the data for the problem\"\"\"\n",
    "    data = {}\n",
    "    data[\"distance_matrix\"] = distance_matrix\n",
    "    data[\"num_vehicles\"] = num_vehicles\n",
    "    data[\"depot\"] = 0\n",
    "\n",
    "    return data\n",
    "\n",
    "data = create_data_model(distance_matrix, 2, 0)"
   ]
  },
  {
   "cell_type": "markdown",
   "metadata": {},
   "source": [
    "Create the index manager and the routing model."
   ]
  },
  {
   "cell_type": "code",
   "execution_count": 84,
   "metadata": {},
   "outputs": [],
   "source": [
    "manager = pywrapcp.RoutingIndexManager(len(data[\"distance_matrix\"]), data[\"num_vehicles\"], data[\"depot\"]) # inputs: number of locations, number of vehicles, starting point\n",
    "\n",
    "routing = pywrapcp.RoutingModel(manager)"
   ]
  },
  {
   "cell_type": "markdown",
   "metadata": {},
   "source": [
    "Create a function that takes any pair of locations and returns the distance between them"
   ]
  },
  {
   "cell_type": "code",
   "execution_count": 85,
   "metadata": {},
   "outputs": [],
   "source": [
    "def distance_callback(from_index, to_index):\n",
    "    \"\"\"Returns the distance between the two nodes.\"\"\"\n",
    "    # Convert from routing variable Index to distance matrix NodeIndex.\n",
    "    from_node = manager.IndexToNode(from_index)\n",
    "    to_node = manager.IndexToNode(to_index)\n",
    "    return data[\"distance_matrix\"][from_node][to_node]\n",
    "\n",
    "transit_callback_index = routing.RegisterTransitCallback(distance_callback)\n"
   ]
  },
  {
   "cell_type": "markdown",
   "metadata": {},
   "source": [
    "Now set the cost of travel, which tells the solver how to caluclate the cost of travel between any two locations"
   ]
  },
  {
   "cell_type": "code",
   "execution_count": 86,
   "metadata": {},
   "outputs": [],
   "source": [
    "routing.SetArcCostEvaluatorOfAllVehicles(transit_callback_index)"
   ]
  },
  {
   "cell_type": "markdown",
   "metadata": {},
   "source": [
    "Create a distance dimension, which computes the cumulative distance traveled by each vehicle. The total cost can be made proportional to the maximum of th etotla distances along each route. This ensures that no one vechicle travels much longer than others."
   ]
  },
  {
   "cell_type": "code",
   "execution_count": 87,
   "metadata": {},
   "outputs": [],
   "source": [
    "dimension_name = \"Distance\"\n",
    "routing.AddDimension(\n",
    "    transit_callback_index,\n",
    "    0,  # no slack\n",
    "    36000,  # vehicle maximum travel distance\n",
    "    True,  # start cumul to zero\n",
    "    dimension_name,\n",
    ")\n",
    "distance_dimension = routing.GetDimensionOrDie(dimension_name)\n",
    "distance_dimension.SetGlobalSpanCostCoefficient(100)\n"
   ]
  },
  {
   "cell_type": "markdown",
   "metadata": {},
   "source": [
    "Find a solution. This sets the solution strategy to PATH_CHEAPEST_ARC."
   ]
  },
  {
   "cell_type": "code",
   "execution_count": 88,
   "metadata": {},
   "outputs": [],
   "source": [
    "search_parameters = pywrapcp.DefaultRoutingSearchParameters()\n",
    "search_parameters.first_solution_strategy = (\n",
    "    routing_enums_pb2.FirstSolutionStrategy.PATH_CHEAPEST_ARC\n",
    ")"
   ]
  },
  {
   "cell_type": "markdown",
   "metadata": {},
   "source": [
    "The following function prints the solution returned by the solver"
   ]
  },
  {
   "cell_type": "code",
   "execution_count": 93,
   "metadata": {},
   "outputs": [],
   "source": [
    "indices_to_names = {0:\"Depot\", 1:\"School\", 2:\"Rink\", 3:\"Grocery\", 4:\"Observatory\"}\n",
    "def print_solution(data, manager, routing, solution):\n",
    "    \"\"\"Prints solution on console.\"\"\"\n",
    "    print(f\"Objective: {solution.ObjectiveValue()}\")\n",
    "    max_route_distance = 0\n",
    "    for vehicle_id in range(data[\"num_vehicles\"]):\n",
    "        index = routing.Start(vehicle_id)\n",
    "        plan_output = f\"Route for vehicle {vehicle_id}:\\n\"\n",
    "        route_distance = 0\n",
    "        while not routing.IsEnd(index):\n",
    "\n",
    "            place = indices_to_names[manager.IndexToNode(index)]\n",
    "\n",
    "            plan_output += f\" {place} -> \"\n",
    "            previous_index = index\n",
    "            index = solution.Value(routing.NextVar(index))\n",
    "            route_distance += routing.GetArcCostForVehicle(\n",
    "                previous_index, index, vehicle_id\n",
    "            )\n",
    "        plan_output += f\"{indices_to_names[manager.IndexToNode(index)]}\\n\"\n",
    "        plan_output += f\"Distance of the route: {route_distance}m\\n\"\n",
    "        print(plan_output)\n",
    "        max_route_distance = max(route_distance, max_route_distance)\n",
    "    print(f\"Maximum of the route distances: {max_route_distance}m\")\n"
   ]
  },
  {
   "cell_type": "markdown",
   "metadata": {},
   "source": [
    "Run and solve!"
   ]
  },
  {
   "cell_type": "code",
   "execution_count": 94,
   "metadata": {},
   "outputs": [
    {
     "name": "stdout",
     "output_type": "stream",
     "text": [
      "Objective: 2048791\n",
      "Route for vehicle 0:\n",
      " Depot ->  Grocery ->  School ->  Rink -> Depot\n",
      "Distance of the route: 19802m\n",
      "\n",
      "Route for vehicle 1:\n",
      " Depot ->  Observatory -> Depot\n",
      "Distance of the route: 20089m\n",
      "\n",
      "Maximum of the route distances: 20089m\n"
     ]
    }
   ],
   "source": [
    "# Solve the problem.\n",
    "solution = routing.SolveWithParameters(search_parameters)\n",
    "# Print solution on console.\n",
    "if solution:\n",
    "    print_solution(data, manager, routing, solution)\n",
    "else:\n",
    "    print(\"No solution found !\")\n"
   ]
  }
 ],
 "metadata": {
  "kernelspec": {
   "display_name": "Snowplow-Routing",
   "language": "python",
   "name": "python3"
  },
  "language_info": {
   "codemirror_mode": {
    "name": "ipython",
    "version": 3
   },
   "file_extension": ".py",
   "mimetype": "text/x-python",
   "name": "python",
   "nbconvert_exporter": "python",
   "pygments_lexer": "ipython3",
   "version": "3.11.4"
  }
 },
 "nbformat": 4,
 "nbformat_minor": 2
}
