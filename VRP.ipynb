{
 "cells": [
  {
   "cell_type": "markdown",
   "metadata": {},
   "source": [
    "# Vehicle Routing Problem\n",
    "\n",
    "Solving the vehicle routing problem using OR-tools by google. Toy problem to explore optimization tools"
   ]
  },
  {
   "cell_type": "markdown",
   "metadata": {},
   "source": [
    "Create distance matrix"
   ]
  },
  {
   "cell_type": "code",
   "execution_count": 3,
   "metadata": {},
   "outputs": [
    {
     "name": "stdout",
     "output_type": "stream",
     "text": [
      "[]\n"
     ]
    }
   ],
   "source": [
    "import requests\n",
    "import json\n",
    "import urllib\n",
    "\n",
    "\n",
    "def create_data():\n",
    "  \"\"\"Creates the data.\"\"\"\n",
    "  data = {}\n",
    "  data['API_key'] = 'YOUR_API_KEY'\n",
    "  data['addresses'] = ['3610+Hacks+Cross+Rd+Memphis+TN', # depot\n",
    "                       '1921+Elvis+Presley+Blvd+Memphis+TN',\n",
    "                       '149+Union+Avenue+Memphis+TN',\n",
    "                       '1034+Audubon+Drive+Memphis+TN',\n",
    "                       '1532+Madison+Ave+Memphis+TN',\n",
    "                       '706+Union+Ave+Memphis+TN',\n",
    "                       '3641+Central+Ave+Memphis+TN',\n",
    "                       '926+E+McLemore+Ave+Memphis+TN',\n",
    "                       '4339+Park+Ave+Memphis+TN',\n",
    "                       '600+Goodwyn+St+Memphis+TN',\n",
    "                       '2000+North+Pkwy+Memphis+TN',\n",
    "                       '262+Danny+Thomas+Pl+Memphis+TN',\n",
    "                       '125+N+Front+St+Memphis+TN',\n",
    "                       '5959+Park+Ave+Memphis+TN',\n",
    "                       '814+Scott+St+Memphis+TN',\n",
    "                       '1005+Tillman+St+Memphis+TN'\n",
    "                      ]\n",
    "  return data\n",
    "\n",
    "def create_distance_matrix(data):\n",
    "  addresses = data[\"addresses\"]\n",
    "  API_key = data[\"API_key\"]\n",
    "  # Distance Matrix API only accepts 100 elements per request, so get rows in multiple requests.\n",
    "  max_elements = 100\n",
    "  num_addresses = len(addresses) # 16 in this example.\n",
    "  # Maximum number of rows that can be computed per request (6 in this example).\n",
    "  max_rows = max_elements // num_addresses\n",
    "  # num_addresses = q * max_rows + r (q = 2 and r = 4 in this example).\n",
    "  q, r = divmod(num_addresses, max_rows)\n",
    "  dest_addresses = addresses\n",
    "  distance_matrix = []\n",
    "  # Send q requests, returning max_rows rows per request.\n",
    "  for i in range(q):\n",
    "    origin_addresses = addresses[i * max_rows: (i + 1) * max_rows]\n",
    "    response = send_request(origin_addresses, dest_addresses, API_key)\n",
    "    distance_matrix += build_distance_matrix(response)\n",
    "\n",
    "  # Get the remaining remaining r rows, if necessary.\n",
    "  if r > 0:\n",
    "    origin_addresses = addresses[q * max_rows: q * max_rows + r]\n",
    "    response = send_request(origin_addresses, dest_addresses, API_key)\n",
    "    distance_matrix += build_distance_matrix(response)\n",
    "  return distance_matrix\n",
    "\n",
    "def send_request(origin_addresses, dest_addresses, API_key):\n",
    "  \"\"\" Build and send request for the given origin and destination addresses.\"\"\"\n",
    "  def build_address_str(addresses):\n",
    "    # Build a pipe-separated string of addresses\n",
    "    address_str = ''\n",
    "    for i in range(len(addresses) - 1):\n",
    "      address_str += addresses[i] + '|'\n",
    "    address_str += addresses[-1]\n",
    "    return address_str\n",
    "\n",
    "  request = 'https://maps.googleapis.com/maps/api/distancematrix/json?units=imperial'\n",
    "  origin_address_str = build_address_str(origin_addresses)\n",
    "  dest_address_str = build_address_str(dest_addresses)\n",
    "  request = request + '&origins=' + origin_address_str + '&destinations=' + \\\n",
    "                       dest_address_str + '&key=' + API_key\n",
    "  jsonResult = urllib.request.urlopen(request).read()\n",
    "  response = json.loads(jsonResult)\n",
    "  return response\n",
    "\n",
    "def build_distance_matrix(response):\n",
    "  distance_matrix = []\n",
    "  for row in response['rows']:\n",
    "    row_list = [row['elements'][j]['distance']['value'] for j in range(len(row['elements']))]\n",
    "    distance_matrix.append(row_list)\n",
    "  return distance_matrix\n",
    "\n",
    "########\n",
    "# Main #\n",
    "########\n",
    "def main():\n",
    "  \"\"\"Entry point of the program\"\"\"\n",
    "  # Create the data.\n",
    "  data = create_data()\n",
    "  addresses = data['addresses']\n",
    "  API_key = data['API_key']\n",
    "  distance_matrix = create_distance_matrix(data)\n",
    "  print(distance_matrix)\n",
    "if __name__ == '__main__':\n",
    "  main()"
   ]
  }
 ],
 "metadata": {
  "kernelspec": {
   "display_name": "Snowplow-Routing",
   "language": "python",
   "name": "python3"
  },
  "language_info": {
   "codemirror_mode": {
    "name": "ipython",
    "version": 3
   },
   "file_extension": ".py",
   "mimetype": "text/x-python",
   "name": "python",
   "nbconvert_exporter": "python",
   "pygments_lexer": "ipython3",
   "version": "3.11.4"
  }
 },
 "nbformat": 4,
 "nbformat_minor": 2
}
